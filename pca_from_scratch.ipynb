{
  "nbformat": 4,
  "nbformat_minor": 0,
  "metadata": {
    "colab": {
      "provenance": [],
      "authorship_tag": "ABX9TyMliPbLkFtcTr50Kr5THMF8",
      "include_colab_link": true
    },
    "kernelspec": {
      "name": "python3",
      "display_name": "Python 3"
    },
    "language_info": {
      "name": "python"
    }
  },
  "cells": [
    {
      "cell_type": "markdown",
      "metadata": {
        "id": "view-in-github",
        "colab_type": "text"
      },
      "source": [
        "<a href=\"https://colab.research.google.com/github/saikrishna0716/pca_from_scratch/blob/main/pca_from_scratch.ipynb\" target=\"_parent\"><img src=\"https://colab.research.google.com/assets/colab-badge.svg\" alt=\"Open In Colab\"/></a>"
      ]
    },
    {
      "cell_type": "code",
      "execution_count": null,
      "metadata": {
        "id": "5NztmUO75Zxt"
      },
      "outputs": [],
      "source": [
        "import numpy as np"
      ]
    },
    {
      "cell_type": "code",
      "source": [
        "x = np.array([[np.random.randint(1,100) for _ in range(2)] for _ in range(10)])"
      ],
      "metadata": {
        "id": "NZ7P8x_F5eB3"
      },
      "execution_count": null,
      "outputs": []
    },
    {
      "cell_type": "code",
      "source": [
        "x"
      ],
      "metadata": {
        "colab": {
          "base_uri": "https://localhost:8080/"
        },
        "id": "JmNEV9l-5lzR",
        "outputId": "36066a15-340a-4c9b-e65c-fe76de721d46"
      },
      "execution_count": null,
      "outputs": [
        {
          "output_type": "execute_result",
          "data": {
            "text/plain": [
              "array([[39, 60],\n",
              "       [ 2, 31],\n",
              "       [23, 17],\n",
              "       [35, 45],\n",
              "       [68,  6],\n",
              "       [43, 30],\n",
              "       [78, 20],\n",
              "       [34, 36],\n",
              "       [62, 86],\n",
              "       [85, 80]])"
            ]
          },
          "metadata": {},
          "execution_count": 68
        }
      ]
    },
    {
      "cell_type": "code",
      "source": [
        "x_mean = np.mean(x, axis = 0)\n",
        "x_transformed = x - x_mean\n",
        "x_transformed"
      ],
      "metadata": {
        "colab": {
          "base_uri": "https://localhost:8080/"
        },
        "id": "FsWbuhKC5pPm",
        "outputId": "51420978-3d26-444d-a4a9-71571512558b"
      },
      "execution_count": null,
      "outputs": [
        {
          "output_type": "execute_result",
          "data": {
            "text/plain": [
              "array([46.9, 41.1])"
            ]
          },
          "metadata": {},
          "execution_count": 69
        }
      ]
    },
    {
      "cell_type": "code",
      "source": [
        "cov_matrix = np.round(np.cov(x_transformed.T),2)\n",
        "\n",
        "cov_matrix"
      ],
      "metadata": {
        "colab": {
          "base_uri": "https://localhost:8080/"
        },
        "id": "-OBh6Jc-7M8J",
        "outputId": "17d3460d-9df8-4a9e-fe0f-8dc0a9365585"
      },
      "execution_count": null,
      "outputs": [
        {
          "output_type": "execute_result",
          "data": {
            "text/plain": [
              "array([[673.88, 189.57],\n",
              "       [189.57, 712.32]])"
            ]
          },
          "metadata": {},
          "execution_count": 72
        }
      ]
    },
    {
      "cell_type": "code",
      "source": [
        "cov_matrix = np.round(np.dot(x_transformed.T, x_transformed) / ((len(x_transformed) - 1)),2)\n",
        "\n",
        "cov_matrix"
      ],
      "metadata": {
        "colab": {
          "base_uri": "https://localhost:8080/"
        },
        "id": "zaE7r9nf562P",
        "outputId": "b004d5ea-4f26-4115-f0da-b079685aeab3"
      },
      "execution_count": null,
      "outputs": [
        {
          "output_type": "execute_result",
          "data": {
            "text/plain": [
              "array([[673.88, 189.57],\n",
              "       [189.57, 712.32]])"
            ]
          },
          "metadata": {},
          "execution_count": 79
        }
      ]
    },
    {
      "cell_type": "code",
      "source": [
        "eigenvalues,eigenvectors = np.linalg.eig(cov_matrix)\n",
        "\n",
        "eigenvalues,eigenvectors"
      ],
      "metadata": {
        "colab": {
          "base_uri": "https://localhost:8080/"
        },
        "id": "Yf4_dgkS7lep",
        "outputId": "6bcb15ac-ac0c-414e-b6ec-354cdfd6e77e"
      },
      "execution_count": null,
      "outputs": [
        {
          "output_type": "execute_result",
          "data": {
            "text/plain": [
              "(array([502.55815866, 883.64184134]),\n",
              " array([[-0.74191315, -0.670496  ],\n",
              "        [ 0.670496  , -0.74191315]]))"
            ]
          },
          "metadata": {},
          "execution_count": 80
        }
      ]
    },
    {
      "cell_type": "code",
      "source": [
        "eigenvectors.T"
      ],
      "metadata": {
        "colab": {
          "base_uri": "https://localhost:8080/"
        },
        "id": "lNBux6Ny7yfa",
        "outputId": "fb336050-2d77-4506-bfe9-778cd54812ca"
      },
      "execution_count": null,
      "outputs": [
        {
          "output_type": "execute_result",
          "data": {
            "text/plain": [
              "array([[-0.74191315,  0.670496  ],\n",
              "       [-0.670496  , -0.74191315]])"
            ]
          },
          "metadata": {},
          "execution_count": 75
        }
      ]
    },
    {
      "cell_type": "code",
      "source": [
        "np.dot(cov_matrix, eigenvectors)"
      ],
      "metadata": {
        "colab": {
          "base_uri": "https://localhost:8080/"
        },
        "id": "fHOLfqWyA04Q",
        "outputId": "350b22ad-c894-4986-c079-ffb80210e7dc"
      },
      "execution_count": null,
      "outputs": [
        {
          "output_type": "execute_result",
          "data": {
            "text/plain": [
              "array([[-372.8545047 , -592.47831827],\n",
              "       [ 336.96323414, -655.58549872]])"
            ]
          },
          "metadata": {},
          "execution_count": 77
        }
      ]
    },
    {
      "cell_type": "code",
      "source": [
        "eigenvalues * eigenvectors"
      ],
      "metadata": {
        "colab": {
          "base_uri": "https://localhost:8080/"
        },
        "id": "pNwBvIpRA5nW",
        "outputId": "2b66b890-2496-44c8-9031-917bbb771e04"
      },
      "execution_count": null,
      "outputs": [
        {
          "output_type": "execute_result",
          "data": {
            "text/plain": [
              "array([[-372.8545047 , -592.47831827],\n",
              "       [ 336.96323414, -655.58549872]])"
            ]
          },
          "metadata": {},
          "execution_count": 78
        }
      ]
    },
    {
      "cell_type": "code",
      "source": [
        "p1 = np.array([10,15])\n",
        "\n",
        "p2 = np.array([1/np.sqrt(2),1/np.sqrt(2)])"
      ],
      "metadata": {
        "id": "vdMCCkO5836u"
      },
      "execution_count": null,
      "outputs": []
    },
    {
      "cell_type": "code",
      "source": [
        "proj_vecror = np.dot(p1,p2) * p2 / np.dot(p2, p2)"
      ],
      "metadata": {
        "id": "cR6qwbde9D3h"
      },
      "execution_count": null,
      "outputs": []
    },
    {
      "cell_type": "code",
      "source": [
        "np.dot(p1,p1), np.dot(proj_vecror,proj_vecror)"
      ],
      "metadata": {
        "colab": {
          "base_uri": "https://localhost:8080/"
        },
        "id": "RN8ky_Qg-gR9",
        "outputId": "644e0835-c6a3-411e-b81b-84c486fbfc7a"
      },
      "execution_count": null,
      "outputs": [
        {
          "output_type": "execute_result",
          "data": {
            "text/plain": [
              "(np.int64(325), np.float64(312.5))"
            ]
          },
          "metadata": {},
          "execution_count": 61
        }
      ]
    },
    {
      "cell_type": "code",
      "source": [
        "x = np.array([[np.random.randint(10,50),np.random.randint(5,1000)] for _ in range(10)])"
      ],
      "metadata": {
        "id": "W9TJ5zoSPsoX"
      },
      "execution_count": null,
      "outputs": []
    },
    {
      "cell_type": "code",
      "source": [
        "x"
      ],
      "metadata": {
        "colab": {
          "base_uri": "https://localhost:8080/"
        },
        "id": "Xk7vST2kS-Rn",
        "outputId": "1ba1ffaa-805c-4707-effe-d030e99d6dbc"
      },
      "execution_count": null,
      "outputs": [
        {
          "output_type": "execute_result",
          "data": {
            "text/plain": [
              "array([[ 46, 817],\n",
              "       [ 30, 698],\n",
              "       [ 18, 293],\n",
              "       [ 35, 112],\n",
              "       [ 30, 539],\n",
              "       [ 38,  90],\n",
              "       [ 35, 426],\n",
              "       [ 41, 832],\n",
              "       [ 44, 570],\n",
              "       [ 30, 731]])"
            ]
          },
          "metadata": {},
          "execution_count": 155
        }
      ]
    },
    {
      "cell_type": "code",
      "source": [
        "import matplotlib.pyplot as plt"
      ],
      "metadata": {
        "id": "HJbeHUS7SkNK"
      },
      "execution_count": null,
      "outputs": []
    },
    {
      "cell_type": "code",
      "source": [
        "plt.scatter(x[:,0],x[:,1])"
      ],
      "metadata": {
        "colab": {
          "base_uri": "https://localhost:8080/",
          "height": 448
        },
        "id": "VxynGwYSSnJY",
        "outputId": "d57b00af-3fe5-4fa6-c3ee-861df67fb265"
      },
      "execution_count": null,
      "outputs": [
        {
          "output_type": "execute_result",
          "data": {
            "text/plain": [
              "<matplotlib.collections.PathCollection at 0x7ea891155cd0>"
            ]
          },
          "metadata": {},
          "execution_count": 156
        },
        {
          "output_type": "display_data",
          "data": {
            "text/plain": [
              "<Figure size 640x480 with 1 Axes>"
            ],
            "image/png": "[encoded data removed]"
          },
          "metadata": {}
        }
      ]
    },
    {
      "cell_type": "code",
      "source": [
        "x_mean = np.mean(x, axis = 0)\n",
        "x_std = np.std(x, axis = 0)\n",
        "x_transformed = (x - x_mean) / x_std\n",
        "plt.scatter(x_transformed[:,0],x_transformed[:,1])"
      ],
      "metadata": {
        "colab": {
          "base_uri": "https://localhost:8080/",
          "height": 448
        },
        "id": "2WQXBG4rTuVn",
        "outputId": "ef46a9c5-4492-47cb-d4f8-05b912b6433b"
      },
      "execution_count": null,
      "outputs": [
        {
          "output_type": "execute_result",
          "data": {
            "text/plain": [
              "<matplotlib.collections.PathCollection at 0x7ea89103d590>"
            ]
          },
          "metadata": {},
          "execution_count": 162
        },
        {
          "output_type": "display_data",
          "data": {
            "text/plain": [
              "<Figure size 640x480 with 1 Axes>"
            ],
            "image/png": "[encoded data removed]"
          },
          "metadata": {}
        }
      ]
    },
    {
      "cell_type": "code",
      "source": [
        "x_transformed"
      ],
      "metadata": {
        "colab": {
          "base_uri": "https://localhost:8080/"
        },
        "id": "ir1yM8DOVClH",
        "outputId": "3d9c4b08-1854-48ee-b527-c76a3dded4e4"
      },
      "execution_count": null,
      "outputs": [
        {
          "output_type": "execute_result",
          "data": {
            "text/plain": [
              "array([[ 1.44669817,  1.17812669],\n",
              "       [-0.60172402,  0.72026557],\n",
              "       [-2.13804065, -0.83800128],\n",
              "       [ 0.03840792, -1.5344119 ],\n",
              "       [-0.60172402,  0.10850154],\n",
              "       [ 0.42248708, -1.6190585 ],\n",
              "       [ 0.03840792, -0.32627415],\n",
              "       [ 0.80656623,  1.23584028],\n",
              "       [ 1.19064539,  0.22777629],\n",
              "       [-0.60172402,  0.84723546]])"
            ]
          },
          "metadata": {},
          "execution_count": 163
        }
      ]
    },
    {
      "cell_type": "code",
      "source": [
        "x_mean, x_std"
      ],
      "metadata": {
        "colab": {
          "base_uri": "https://localhost:8080/"
        },
        "id": "TL09WpcKU49P",
        "outputId": "c6e6b986-42eb-4da8-ffbc-abd4d01ea980"
      },
      "execution_count": null,
      "outputs": [
        {
          "output_type": "execute_result",
          "data": {
            "text/plain": [
              "(array([ 34.7, 510.8]), array([  7.81088983, 259.90413617]))"
            ]
          },
          "metadata": {},
          "execution_count": 164
        }
      ]
    },
    {
      "cell_type": "code",
      "source": [
        "cov_matrix = np.cov(x_transformed.T)\n",
        "cov_matrix"
      ],
      "metadata": {
        "colab": {
          "base_uri": "https://localhost:8080/"
        },
        "id": "rxNKqq8bT7ip",
        "outputId": "281bafad-0921-4fe6-b6a9-a2abaa369c39"
      },
      "execution_count": null,
      "outputs": [
        {
          "output_type": "execute_result",
          "data": {
            "text/plain": [
              "array([[1.11111111, 0.33334167],\n",
              "       [0.33334167, 1.11111111]])"
            ]
          },
          "metadata": {},
          "execution_count": 165
        }
      ]
    },
    {
      "cell_type": "code",
      "source": [
        "eigenvalues,eigenvectors = np.linalg.eig(cov_matrix)\n",
        "\n",
        "eigenvalues,eigenvectors"
      ],
      "metadata": {
        "colab": {
          "base_uri": "https://localhost:8080/"
        },
        "id": "zrxHeRCoPuRD",
        "outputId": "5194710e-7ae4-4ea1-ad8c-23343f19784e"
      },
      "execution_count": null,
      "outputs": [
        {
          "output_type": "execute_result",
          "data": {
            "text/plain": [
              "(array([3.56186609, 9.81591169]),\n",
              " array([[-0.92291511,  0.38500351],\n",
              "        [-0.38500351, -0.92291511]]))"
            ]
          },
          "metadata": {},
          "execution_count": 118
        }
      ]
    },
    {
      "cell_type": "code",
      "source": [
        "\n",
        "max_vec"
      ],
      "metadata": {
        "colab": {
          "base_uri": "https://localhost:8080/"
        },
        "id": "n8cg9u_SUF8f",
        "outputId": "aea36150-d6b6-424c-c8c7-5eedba59b05b"
      },
      "execution_count": null,
      "outputs": [
        {
          "output_type": "execute_result",
          "data": {
            "text/plain": [
              "array([-0.38500351, -0.92291511])"
            ]
          },
          "metadata": {},
          "execution_count": 166
        }
      ]
    },
    {
      "cell_type": "code",
      "source": [
        "x = np.array([[np.random.randint(10,50),np.random.randint(5,1000),np.random.randint(1000,10000)] for _ in range(10)])"
      ],
      "metadata": {
        "id": "0wauXQE5dE-A"
      },
      "execution_count": null,
      "outputs": []
    },
    {
      "cell_type": "code",
      "source": [
        "x"
      ],
      "metadata": {
        "colab": {
          "base_uri": "https://localhost:8080/"
        },
        "id": "dBA8CKoObKjV",
        "outputId": "19ebd532-92ea-45fc-9b70-ae43d96cc007"
      },
      "execution_count": null,
      "outputs": [
        {
          "output_type": "execute_result",
          "data": {
            "text/plain": [
              "array([[  14,  715, 8409],\n",
              "       [  18,  284, 2948],\n",
              "       [  23,  582, 3047],\n",
              "       [  20,  467, 2981],\n",
              "       [  38,  982, 5216],\n",
              "       [  48,  939, 1962],\n",
              "       [  29,  269, 6181],\n",
              "       [  13,  869, 5196],\n",
              "       [  19,  763, 7293],\n",
              "       [  44,  782, 7849]])"
            ]
          },
          "metadata": {},
          "execution_count": 178
        }
      ]
    },
    {
      "cell_type": "code",
      "source": [
        "x_mean = np.mean(x, axis = 0)\n",
        "x_std = np.std(x, axis = 0)\n",
        "x_transformed = (x - x_mean) / x_std\n",
        "\n",
        "cov_matrix = np.cov(x_transformed.T)\n",
        "eigenvalues,eigenvectors = np.linalg.eig(cov_matrix)\n",
        "\n",
        "idx = np.argsort(eigenvalues)\n",
        "max_vec = eigenvectors[:,idx[-1]]\n",
        "\n",
        "pc1 = x_transformed @ max_vec\n",
        "pc1"
      ],
      "metadata": {
        "colab": {
          "base_uri": "https://localhost:8080/"
        },
        "id": "AVvNymLxee7F",
        "outputId": "0aeb34fb-8074-46a1-e106-5b542e55936d"
      },
      "execution_count": null,
      "outputs": [
        {
          "output_type": "execute_result",
          "data": {
            "text/plain": [
              "array([ 0.48372768,  1.68967617,  0.51657802,  1.03216982, -1.59986565,\n",
              "       -1.95438616,  0.99892778,  0.18362973,  0.08575929, -1.43621666])"
            ]
          },
          "metadata": {},
          "execution_count": 197
        }
      ]
    },
    {
      "cell_type": "code",
      "source": [
        "x_mean = np.mean(x, axis = 0)\n",
        "x_std = np.std(x, axis = 0)\n",
        "x_transformed = (x - x_mean) / x_std\n",
        "\n",
        "cov_matrix = np.cov(x_transformed.T)\n",
        "eigenvalues,eigenvectors = np.linalg.eig(cov_matrix)\n",
        "\n",
        "idx = np.argsort(eigenvalues)[::-1]\n",
        "eigenvalues_variance = np.round(eigenvalues[idx]/np.sum(eigenvalues),2)\n",
        "print(eigenvalues_variance)\n",
        "\n",
        "max_vec = eigenvectors[:,idx]\n",
        "\n",
        "pcs = x_transformed @ max_vec\n",
        "print(pcs)"
      ],
      "metadata": {
        "colab": {
          "base_uri": "https://localhost:8080/"
        },
        "id": "2E8CUSc7a6-u",
        "outputId": "37ea0347-dd90-4fa8-8e83-64c274bdaa1c"
      },
      "execution_count": null,
      "outputs": [
        {
          "output_type": "stream",
          "name": "stdout",
          "text": [
            "[0.46 0.36 0.17]\n",
            "[[ 0.48372768  1.77894392 -0.19852699]\n",
            " [ 1.68967617 -1.03551002  0.16612655]\n",
            " [ 0.51657802 -0.84235785 -0.34972619]\n",
            " [ 1.03216982 -0.89869854 -0.21309327]\n",
            " [-1.59986565  0.03694524 -0.22222122]\n",
            " [-1.95438616 -1.64338811 -0.17251883]\n",
            " [ 0.99892778 -0.00546308  1.39271556]\n",
            " [ 0.18362973  0.61449807 -1.26011692]\n",
            " [ 0.08575929  1.22019712 -0.26624666]\n",
            " [-1.43621666  0.77483326  1.12360797]]\n"
          ]
        }
      ]
    },
    {
      "cell_type": "code",
      "source": [
        "max_vec"
      ],
      "metadata": {
        "colab": {
          "base_uri": "https://localhost:8080/"
        },
        "id": "dPoQabH4dwZ-",
        "outputId": "2dfd4c0b-b1b1-42da-9fee-8114ea69407e"
      },
      "execution_count": null,
      "outputs": [
        {
          "output_type": "execute_result",
          "data": {
            "text/plain": [
              "array([[-0.69275547, -0.33286048,  0.63976071],\n",
              "       [-0.71816166,  0.23743125, -0.6541179 ],\n",
              "       [-0.06583082,  0.91259536,  0.40352944]])"
            ]
          },
          "metadata": {},
          "execution_count": 212
        }
      ]
    },
    {
      "cell_type": "code",
      "source": [
        "from sklearn.decomposition import PCA\n",
        "\n",
        "pca = PCA()\n",
        "pca.fit(x_transformed)\n",
        "sklearn_pc1 = pca.components_[2]  # Already normalized!\n",
        "\n",
        "print(f\"Your calculation: {pc1}\")\n",
        "print(f\"sklearn result:   {sklearn_pc1}\")\n",
        "# Should be the same (or opposite sign)"
      ],
      "metadata": {
        "colab": {
          "base_uri": "https://localhost:8080/"
        },
        "id": "Roe9v1D-dngM",
        "outputId": "25d9bdb3-36cf-4bf9-8728-496e809df5d9"
      },
      "execution_count": null,
      "outputs": [
        {
          "output_type": "stream",
          "name": "stdout",
          "text": [
            "Your calculation: [ 0.48372768  1.68967617  0.51657802  1.03216982 -1.59986565 -1.95438616\n",
            "  0.99892778  0.18362973  0.08575929 -1.43621666]\n",
            "sklearn result:   [-0.63976071  0.6541179  -0.40352944]\n"
          ]
        }
      ]
    },
    {
      "cell_type": "markdown",
      "source": [
        "### Potential Concerns with PCA and how to fix them\n",
        "\n",
        "1.   Multicollinearity: While related to correlation, extreme multicollinearity (VIF > 10) can cause numerical instability and redundant components.\n",
        "2.   Outliers: Can dramatically distort principal components (as we discussed). Detect and handle before PCA or use robust PCA variants.\n",
        "3.   Scale/Unit differences: Variables with different scales (e.g., age in years vs. income in dollars) will dominate components simply due to magnitude. Always standardize/normalize unless variables are naturally on similar scales.\n",
        "4.   Missing Data: PCA requires complete data. Handle missing values through imputation, listwise deletion, or specialized techniques - but each approach affects results differently.\n",
        "5.   Data Distribution: PCA assumes linear relationships. Highly skewed or non-linear patterns may be poorly captured. Consider transformations (log, Box-Cox) for skewed data.\n",
        "6.   Correlation Structure: If variables are uncorrelated, PCA provides little benefit. Check correlation matrices beforehand - low correlations suggest PCA may not be useful.\n",
        "7.   Noise vs. Signal: High-dimensional data often has more noise dimensions than signal. PCA may capture noise in later components.\n",
        "\n",
        "\n",
        "\n",
        "\n",
        "\n"
      ],
      "metadata": {
        "id": "TfYvaqOfkNK_"
      }
    }
  ]
}